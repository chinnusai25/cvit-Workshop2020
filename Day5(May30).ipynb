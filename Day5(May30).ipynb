{
  "nbformat": 4,
  "nbformat_minor": 0,
  "metadata": {
    "colab": {
      "name": "Day5(May30).ipynb",
      "provenance": [],
      "collapsed_sections": [],
      "authorship_tag": "ABX9TyM+0PeqVfM8Mr9OVxpuJ+jB",
      "include_colab_link": true
    },
    "kernelspec": {
      "name": "python3",
      "display_name": "Python 3"
    }
  },
  "cells": [
    {
      "cell_type": "markdown",
      "metadata": {
        "id": "view-in-github",
        "colab_type": "text"
      },
      "source": [
        "<a href=\"https://colab.research.google.com/github/chinnusai25/cvit-Workshop2020/blob/master/Day5(May30).ipynb\" target=\"_parent\"><img src=\"https://colab.research.google.com/assets/colab-badge.svg\" alt=\"Open In Colab\"/></a>"
      ]
    },
    {
      "cell_type": "markdown",
      "metadata": {
        "id": "NB2u2i3SqzUl",
        "colab_type": "text"
      },
      "source": [
        "**MORNING SESSION**<br>\n",
        "Probability and Statistics<br>\n",
        "https://colab.research.google.com/drive/1CgfWbmRLSkrAYjlQIprpvhALEWrufuVa#scrollTo=w9r5hSUXRCz-"
      ]
    },
    {
      "cell_type": "markdown",
      "metadata": {
        "id": "K-6lvuaUsTKE",
        "colab_type": "text"
      },
      "source": [
        "**Sample Vs Population**<br>\n",
        "Why n-1 in sample variance<br>\n",
        "**HOG**<br>\n",
        "gradient = difference between intensities in x and (x+1) or (x-1) cells(in X direction) and y and (y+1) or (y-1) cells(in Y direction)"
      ]
    },
    {
      "cell_type": "markdown",
      "metadata": {
        "id": "-o7tHiTc6hGm",
        "colab_type": "text"
      },
      "source": [
        "#### Cancer Test Example\n",
        "Let us apply Bayes' Rule to a Cancer Test Example which is a very common example in Statistic classes.\n",
        "Suppose, there is a certain type of cancer which is extremely rare.\n",
        "\n",
        "Let,\n",
        "\\begin{equation}\n",
        "P(C) = 0.001\n",
        "\\end{equation}\n",
        "In other words, $1$ in every $1000$ people has this cancer. Can you compute the probability of not having cancer?\n",
        "\\begin{equation}\n",
        "P(\\neg C) = ?\n",
        "\\end{equation}\n",
        "\n",
        "The test for cancer is not $100\\%$ accurate. Let us say, probability of the test being positive given someone has cancer is,\n",
        "\\begin{equation}\n",
        "P(pos | C) = 0.8\n",
        "\\end{equation}\n",
        "Can you compute the probability that the test is negative given someone has cancer?\n",
        "\\begin{equation}\n",
        "P(neg | C) = ?\n",
        "\\end{equation}\n",
        "\n",
        "Similarly, the probability of a test being positive given that someone has no cancer is $P(pos | \\neg C) = 0.1$. Can you compute the probability that the test is negative given someone has no cancer?\n",
        "\\begin{equation}\n",
        "P(neg | \\neg C) = ?\n",
        "\\end{equation}\n",
        "\n",
        "Can you compute the following?\n",
        "\\begin{equation}\n",
        "P(C | pos) = ?\n",
        "\\end{equation}\n",
        "Interpret the quantity you computed in words!\n",
        "\n",
        "What we computed is very interesting. We computed probability of having cancer given the test results and how likely the disease is."
      ]
    },
    {
      "cell_type": "code",
      "metadata": {
        "id": "Ldffx36l76B7",
        "colab_type": "code",
        "colab": {}
      },
      "source": [
        "P(~C) = 1-P(C) = 1 - 0.001 = 0.999\n",
        "P(neg|C) = 1-P(pos|C) = 0.2\n",
        "P(neg|~C) = 0.9\n",
        "P(C|pos) = P(pos|C)*P(C)|P(pos) = 0.8*0.001|P(pos|C)*P(c)+P(pos|~C)*P(~C) = 0.8*0.001|0.8*(0.001)+0.1*(0.999)"
      ],
      "execution_count": 0,
      "outputs": []
    },
    {
      "cell_type": "markdown",
      "metadata": {
        "id": "6o-3Vrh3ucCX",
        "colab_type": "text"
      },
      "source": [
        "**Robot Localization**"
      ]
    },
    {
      "cell_type": "markdown",
      "metadata": {
        "id": "I0iPdR-y-aGV",
        "colab_type": "text"
      },
      "source": [
        "In this exercise we will apply basic concepts of probability and statistics to help a robot localise itself. Robot localization is an important task for any mobile robot as it needs to know where in the world it is currently situated in.\n",
        "\n",
        "You may think robot localization is a very easy problem as you can use GPS. But no! GPS has errors in localization upto a few metres which is very inaccurate for self driving cars.\n",
        "\n",
        "Hence, the robot needs to use sensors to locate itself. And sensors are noisy! Even the motion of a robot is uncertain.\n",
        "\n"
      ]
    },
    {
      "cell_type": "code",
      "metadata": {
        "id": "IGmhxMJB-nN5",
        "colab_type": "code",
        "colab": {}
      },
      "source": [
        "# Modify the empty list, p, so that it becomes a UNIFORM probability\n",
        "# distribution over n grid cells, as expressed in a list of \n",
        "# n probabilities.\n",
        "def init_distribution(n):\n",
        "    p = [ 1/n for i in range(n) ]\n",
        "    # Add your code here\n",
        "    \n",
        "    # End your code here\n",
        "    return p"
      ],
      "execution_count": 0,
      "outputs": []
    },
    {
      "cell_type": "code",
      "metadata": {
        "id": "kvD67ly0-0aL",
        "colab_type": "code",
        "colab": {
          "base_uri": "https://localhost:8080/",
          "height": 35
        },
        "outputId": "36ac348d-d1ce-4dc4-e617-a554e201657f"
      },
      "source": [
        "init_distribution(5)"
      ],
      "execution_count": 19,
      "outputs": [
        {
          "output_type": "execute_result",
          "data": {
            "text/plain": [
              "[0.2, 0.2, 0.2, 0.2, 0.2]"
            ]
          },
          "metadata": {
            "tags": []
          },
          "execution_count": 19
        }
      ]
    },
    {
      "cell_type": "code",
      "metadata": {
        "id": "ZBoMFOa8Ac1n",
        "colab_type": "code",
        "colab": {}
      },
      "source": [
        "#Modify the code below so that the function sense, which \n",
        "#takes p and Z as inputs, will output the normalized \n",
        "#probability distribution, q, after multiplying the entries \n",
        "# in p according to the color in the corresponding cell in world,\n",
        "# followed by normalization of the probability values\n",
        "\n",
        "#q should output(P(x/observedColor) which is equal to P(observedColor/x)*P(x)/P(observedColor))\n",
        "import numpy as np\n",
        "world=['green', 'red', 'red', 'green', 'green']\n",
        "p = [0.2, 0.2, 0.2, 0.2, 0.2]\n",
        "\n",
        "probabilityForCrctObs=0.75\n",
        "probabilityForInCrctObs=0.25\n",
        "def sense(p, observedColor):\n",
        "    q = np.zeros(5)\n",
        "    # print(q)\n",
        "    for i in range(5):\n",
        "      if(observedColor==world[i]):\n",
        "        q[i]=p[i]*probabilityForCrctObs\n",
        "      else:\n",
        "        q[i]=p[i]*probabilityForInCrctObs    \n",
        "    # End your code here\n",
        "    return q/np.sum(q)"
      ],
      "execution_count": 0,
      "outputs": []
    },
    {
      "cell_type": "code",
      "metadata": {
        "id": "KTNDD217CuCN",
        "colab_type": "code",
        "colab": {
          "base_uri": "https://localhost:8080/",
          "height": 35
        },
        "outputId": "de8b53a9-fd79-4d86-90e6-0d895d6ca628"
      },
      "source": [
        "sense(p, 'red')\n"
      ],
      "execution_count": 21,
      "outputs": [
        {
          "output_type": "execute_result",
          "data": {
            "text/plain": [
              "array([0.11111111, 0.33333333, 0.33333333, 0.11111111, 0.11111111])"
            ]
          },
          "metadata": {
            "tags": []
          },
          "execution_count": 21
        }
      ]
    },
    {
      "cell_type": "code",
      "metadata": {
        "id": "xgZXwCeoCrvm",
        "colab_type": "code",
        "colab": {
          "base_uri": "https://localhost:8080/",
          "height": 35
        },
        "outputId": "46319562-e4ed-4186-84c5-eb83f8e233d7"
      },
      "source": [
        "sense(p, 'green')"
      ],
      "execution_count": 22,
      "outputs": [
        {
          "output_type": "execute_result",
          "data": {
            "text/plain": [
              "array([0.27272727, 0.09090909, 0.09090909, 0.27272727, 0.27272727])"
            ]
          },
          "metadata": {
            "tags": []
          },
          "execution_count": 22
        }
      ]
    },
    {
      "cell_type": "code",
      "metadata": {
        "id": "B-tEnSRTEQVl",
        "colab_type": "code",
        "colab": {
          "base_uri": "https://localhost:8080/",
          "height": 35
        },
        "outputId": "849bff49-53be-4077-a936-76320722d00d"
      },
      "source": [
        "#Modify the code so that it updates the probability twice\n",
        "#and gives the posterior distribution after both \n",
        "#measurements are incorporated. Make sure that your code \n",
        "#allows for any sequence of measurement of any length.\n",
        "\n",
        "# DO NOT MODIFY THE SENSE FUNCTION. JUST CALL THE SENSE FUNCTION APPROPRIATELY\n",
        "\n",
        "p=[0.2, 0.2, 0.2, 0.2, 0.2]\n",
        "world=['green', 'red', 'red', 'green', 'green']\n",
        "measurements = ['red', 'green']\n",
        "\n",
        "# Add your code here\n",
        "for i in measurements:\n",
        "  p=sense(p,i)\n",
        "# End your code here\n",
        "print(p)"
      ],
      "execution_count": 23,
      "outputs": [
        {
          "output_type": "stream",
          "text": [
            "[0.2 0.2 0.2 0.2 0.2]\n"
          ],
          "name": "stdout"
        }
      ]
    },
    {
      "cell_type": "code",
      "metadata": {
        "id": "gMjvVVJBLMyz",
        "colab_type": "code",
        "colab": {
          "base_uri": "https://localhost:8080/",
          "height": 35
        },
        "outputId": "919d06d4-a89d-424e-a7e2-00d4603991a0"
      },
      "source": [
        "#Program a function that returns a new distribution \n",
        "#q, shifted to the right by U units. If U=0, q should \n",
        "#be the same as p.\n",
        "\n",
        "def gcd(a, b): \n",
        "    if b == 0: \n",
        "        return a; \n",
        "    else: \n",
        "        return gcd(b, a%b) \n",
        "def move(p, U):\n",
        "    q = []\n",
        "    n=len(p)\n",
        "    d=(n-U)%n\n",
        "    for i in range(gcd(d,n)): \n",
        "          \n",
        "        # move i-th values of blocks  \n",
        "        temp = p[i] \n",
        "        j = i \n",
        "        while 1: \n",
        "            k = j + d \n",
        "            if k >= n: \n",
        "                k = k - n \n",
        "            if k == i: \n",
        "                break\n",
        "            p[j] = p[k] \n",
        "            j = k \n",
        "        p[j] = temp \n",
        "    return p \n",
        "\n",
        "move([0.11, 0.33, 0.33, 0.11, 0.11], 1)"
      ],
      "execution_count": 24,
      "outputs": [
        {
          "output_type": "execute_result",
          "data": {
            "text/plain": [
              "[0.11, 0.11, 0.33, 0.33, 0.11]"
            ]
          },
          "metadata": {
            "tags": []
          },
          "execution_count": 24
        }
      ]
    },
    {
      "cell_type": "code",
      "metadata": {
        "id": "B-z_nAq0O5vX",
        "colab_type": "code",
        "colab": {
          "base_uri": "https://localhost:8080/",
          "height": 35
        },
        "outputId": "85450eba-77fc-4421-c3ac-58f117eec5bc"
      },
      "source": [
        "#Modify the move function to accommodate the added \n",
        "#probabilities of overshooting or undershooting \n",
        "#the intended destination.\n",
        "def ProbabilisticMove(p, U):\n",
        "    q = []\n",
        "    for i in range(5):\n",
        "        q.append(0.0)\n",
        "    # ADD CODE HERE\n",
        "    for i in range(5):\n",
        "        q[i] = 0.8*p[(i-U)%5] + 0.1*p[(i-U-1)%5] + 0.1*p[(i+1-U)%5]\n",
        "    # END CODE HERE\n",
        "    return q\n",
        "ProbabilisticMove([0, 1.0, 0, 0, 0], 1)"
      ],
      "execution_count": 25,
      "outputs": [
        {
          "output_type": "execute_result",
          "data": {
            "text/plain": [
              "[0.0, 0.1, 0.8, 0.1, 0.0]"
            ]
          },
          "metadata": {
            "tags": []
          },
          "execution_count": 25
        }
      ]
    },
    {
      "cell_type": "code",
      "metadata": {
        "id": "ozh_gv_1w05J",
        "colab_type": "code",
        "colab": {
          "base_uri": "https://localhost:8080/",
          "height": 107
        },
        "outputId": "102d8984-56ff-4dc1-9f4c-9242daa27d93"
      },
      "source": [
        "# Write code that makes the robot move twice and then prints \n",
        "# out the resulting distribution, starting with the initial \n",
        "# distribution p = [0, 1, 0, 0, 0]\n",
        "p=ProbabilisticMove([0, 1.0, 0, 0, 0], 1)\n",
        "ProbabilisticMove(p, 1)"
      ],
      "execution_count": 26,
      "outputs": [
        {
          "output_type": "execute_result",
          "data": {
            "text/plain": [
              "[0.010000000000000002,\n",
              " 0.010000000000000002,\n",
              " 0.16000000000000003,\n",
              " 0.6600000000000001,\n",
              " 0.16000000000000003]"
            ]
          },
          "metadata": {
            "tags": []
          },
          "execution_count": 26
        }
      ]
    },
    {
      "cell_type": "code",
      "metadata": {
        "id": "Ld00zPdfxNwn",
        "colab_type": "code",
        "colab": {
          "base_uri": "https://localhost:8080/",
          "height": 35
        },
        "outputId": "17f0bdce-ed96-4f24-e0f5-8839865aec18"
      },
      "source": [
        "#write code that moves 1000 times and then prints the \n",
        "#resulting probability distribution.\n",
        "p = [0, 1, 0, 0, 0]\n",
        "for i in range(1000):\n",
        "  p=ProbabilisticMove(p, 1)\n",
        "print(p)"
      ],
      "execution_count": 27,
      "outputs": [
        {
          "output_type": "stream",
          "text": [
            "[0.20000000000000365, 0.20000000000000373, 0.20000000000000365, 0.2000000000000035, 0.2000000000000035]\n"
          ],
          "name": "stdout"
        }
      ]
    },
    {
      "cell_type": "code",
      "metadata": {
        "id": "gcV7hkXtvuCd",
        "colab_type": "code",
        "colab": {
          "base_uri": "https://localhost:8080/",
          "height": 35
        },
        "outputId": "3a7dece5-fc29-4d8f-b9bb-8da986cc5993"
      },
      "source": [
        "#Given the list motions=[1,1] which means the robot \n",
        "#moves right and then right again, compute the posterior \n",
        "#distribution if the robot first senses red, then moves \n",
        "#right one, then senses green, then moves right again, \n",
        "#starting with a uniform prior distribution.\n",
        "world=['green', 'red', 'red', 'green', 'green']\n",
        "measurements = ['red', 'green']\n",
        "motions = [1,1]\n",
        "\n",
        "p = [0.2,0.2,0.2,0.2,0.2]\n",
        "# ADD CODE HERE\n",
        "for i in range(2):\n",
        "    q = sense(p, measurements[i])\n",
        "    # print(q)\n",
        "    q1 = ProbabilisticMove(q, motions[i])\n",
        "    # print(q1)\n",
        "    p = q1\n",
        "print(p)"
      ],
      "execution_count": 28,
      "outputs": [
        {
          "output_type": "stream",
          "text": [
            "[0.21157894736842106, 0.15157894736842106, 0.08105263157894738, 0.16842105263157894, 0.38736842105263164]\n"
          ],
          "name": "stdout"
        }
      ]
    },
    {
      "cell_type": "markdown",
      "metadata": {
        "id": "qHd2KBZzn9ak",
        "colab_type": "text"
      },
      "source": [
        "**AfterNoon Session**<br>\n",
        "**Pytorch** <br>\n",
        "https://colab.research.google.com/drive/1Q5J0HvqFzMWLNlrfNpoVK_vpl8LGVREK#scrollTo=D_oo-7CGNfF5"
      ]
    }
  ]
}