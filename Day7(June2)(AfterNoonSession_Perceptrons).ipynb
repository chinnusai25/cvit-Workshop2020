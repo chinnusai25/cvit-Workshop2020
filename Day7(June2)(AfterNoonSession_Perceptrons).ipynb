{
  "nbformat": 4,
  "nbformat_minor": 0,
  "metadata": {
    "colab": {
      "name": "Day7(June2)(AfterNoonSession-Perceptrons).ipynb",
      "provenance": [],
      "collapsed_sections": [],
      "authorship_tag": "ABX9TyMQod8XhfnRERFxPWnDXINi",
      "include_colab_link": true
    },
    "kernelspec": {
      "name": "python3",
      "display_name": "Python 3"
    }
  },
  "cells": [
    {
      "cell_type": "markdown",
      "metadata": {
        "id": "view-in-github",
        "colab_type": "text"
      },
      "source": [
        "<a href=\"https://colab.research.google.com/github/chinnusai25/cvit-Workshop2020/blob/master/Day7(June2)(AfterNoonSession_Perceptrons).ipynb\" target=\"_parent\"><img src=\"https://colab.research.google.com/assets/colab-badge.svg\" alt=\"Open In Colab\"/></a>"
      ]
    },
    {
      "cell_type": "markdown",
      "metadata": {
        "id": "2zGYljq3bbek",
        "colab_type": "text"
      },
      "source": [
        "Code perceptron from scratch for AND and OR gate. (Threshold=0.2,     LearningRate=0.1)"
      ]
    },
    {
      "cell_type": "code",
      "metadata": {
        "id": "VM-GSQdBb6UK",
        "colab_type": "code",
        "colab": {
          "base_uri": "https://localhost:8080/",
          "height": 467
        },
        "outputId": "51ffcafa-b16a-4b99-ba6e-2e4b698ea6e1"
      },
      "source": [
        "Inputs=[[0,0],[0,1],[1,0],[1,1]]\n",
        "DesiredOp = [0,0,0,1]\n",
        "InitialWts = [0.3,-0.1]\n",
        "epochs = 5\n",
        "Threshold=0.2\n",
        "learningRate=0.1\n",
        "\n",
        "def Loss(DesiredOp,PredOp):\n",
        "    Error=DesiredOp-PredOp\n",
        "    return Error\n",
        "\n",
        "def Activation(OutputCalc,Threshold):\n",
        "  if(OutputCalc<Threshold):\n",
        "    return 0\n",
        "  else:\n",
        "    return 1\n",
        "  \n",
        "PredOp=[0,0,0,0]\n",
        "for i in range(epochs):\n",
        "  print(\"epoch: \",i+1)\n",
        "  for j in range(len(Inputs)):\n",
        "    temp=Inputs[j][0]*InitialWts[0]+Inputs[j][1]*InitialWts[1]\n",
        "    PredOp[j]=Activation(temp,Threshold)\n",
        "    Error=Loss(DesiredOp[j],PredOp[j])\n",
        "    InitialWts[0]=round(InitialWts[0]+learningRate*(Error)*Inputs[j][0],1)\n",
        "    InitialWts[1]=round(InitialWts[1]+learningRate*(Error)*Inputs[j][1],1)\n",
        "    print(InitialWts)"
      ],
      "execution_count": 7,
      "outputs": [
        {
          "output_type": "stream",
          "text": [
            "epoch:  1\n",
            "[0.3, -0.1]\n",
            "[0.3, -0.1]\n",
            "[0.2, -0.1]\n",
            "[0.3, 0.0]\n",
            "epoch:  2\n",
            "[0.3, 0.0]\n",
            "[0.3, 0.0]\n",
            "[0.2, 0.0]\n",
            "[0.2, 0.0]\n",
            "epoch:  3\n",
            "[0.2, 0.0]\n",
            "[0.2, 0.0]\n",
            "[0.1, 0.0]\n",
            "[0.2, 0.1]\n",
            "epoch:  4\n",
            "[0.2, 0.1]\n",
            "[0.2, 0.1]\n",
            "[0.1, 0.1]\n",
            "[0.1, 0.1]\n",
            "epoch:  5\n",
            "[0.1, 0.1]\n",
            "[0.1, 0.1]\n",
            "[0.1, 0.1]\n",
            "[0.1, 0.1]\n"
          ],
          "name": "stdout"
        }
      ]
    },
    {
      "cell_type": "markdown",
      "metadata": {
        "id": "bncDDU6ljNbJ",
        "colab_type": "text"
      },
      "source": [
        "OR GATE"
      ]
    },
    {
      "cell_type": "code",
      "metadata": {
        "id": "nfwAa3gBjO5F",
        "colab_type": "code",
        "colab": {
          "base_uri": "https://localhost:8080/",
          "height": 467
        },
        "outputId": "04a75cc0-f102-49a5-dcce-f7e56dbade9a"
      },
      "source": [
        "Inputs=[[0,0],[0,1],[1,0],[1,1]]\n",
        "DesiredOp = [0,1,1,1]\n",
        "InitialWts = [0.3,-0.1]\n",
        "epochs = 5\n",
        "Threshold=0.2\n",
        "learningRate=0.1\n",
        "\n",
        "def Loss(DesiredOp,PredOp):\n",
        "    Error=DesiredOp-PredOp\n",
        "    return Error\n",
        "\n",
        "def Activation(OutputCalc,Threshold):\n",
        "  if(OutputCalc<Threshold):\n",
        "    return 0\n",
        "  else:\n",
        "    return 1\n",
        "  \n",
        "PredOp=[0,0,0,0]\n",
        "for i in range(epochs):\n",
        "  print(\"epoch: \",i+1)\n",
        "  for j in range(len(Inputs)):\n",
        "    temp=Inputs[j][0]*InitialWts[0]+Inputs[j][1]*InitialWts[1]\n",
        "    PredOp[j]=Activation(temp,Threshold)\n",
        "    Error=Loss(DesiredOp[j],PredOp[j])\n",
        "    InitialWts[0]=round(InitialWts[0]+learningRate*(Error)*Inputs[j][0],1)\n",
        "    InitialWts[1]=round(InitialWts[1]+learningRate*(Error)*Inputs[j][1],1)\n",
        "    print(InitialWts)"
      ],
      "execution_count": 8,
      "outputs": [
        {
          "output_type": "stream",
          "text": [
            "epoch:  1\n",
            "[0.3, -0.1]\n",
            "[0.3, 0.0]\n",
            "[0.3, 0.0]\n",
            "[0.3, 0.0]\n",
            "epoch:  2\n",
            "[0.3, 0.0]\n",
            "[0.3, 0.1]\n",
            "[0.3, 0.1]\n",
            "[0.3, 0.1]\n",
            "epoch:  3\n",
            "[0.3, 0.1]\n",
            "[0.3, 0.2]\n",
            "[0.3, 0.2]\n",
            "[0.3, 0.2]\n",
            "epoch:  4\n",
            "[0.3, 0.2]\n",
            "[0.3, 0.2]\n",
            "[0.3, 0.2]\n",
            "[0.3, 0.2]\n",
            "epoch:  5\n",
            "[0.3, 0.2]\n",
            "[0.3, 0.2]\n",
            "[0.3, 0.2]\n",
            "[0.3, 0.2]\n"
          ],
          "name": "stdout"
        }
      ]
    },
    {
      "cell_type": "markdown",
      "metadata": {
        "id": "xuXRI0yUjT-G",
        "colab_type": "text"
      },
      "source": [
        "Add a code for early stopping and test on XOR gate.\n"
      ]
    },
    {
      "cell_type": "code",
      "metadata": {
        "id": "JZzL8rP7jVU3",
        "colab_type": "code",
        "colab": {
          "base_uri": "https://localhost:8080/",
          "height": 647
        },
        "outputId": "70f00600-c323-440a-b737-bc9abdd84d08"
      },
      "source": [
        "Inputs=[[0,0],[0,1],[1,0],[1,1]]\n",
        "DesiredOp = [0,1,1,0]\n",
        "InitialWts = [0.3,-0.1]\n",
        "epochs = 15\n",
        "Threshold=0.2\n",
        "learningRate=0.1\n",
        "\n",
        "def Loss(DesiredOp,PredOp):\n",
        "    Error=DesiredOp-PredOp\n",
        "    return Error\n",
        "\n",
        "def Activation(OutputCalc,Threshold):\n",
        "  if(OutputCalc<Threshold):\n",
        "    return 0\n",
        "  else:\n",
        "    return 1\n",
        "\n",
        "def Accuracy(DesiredOp,PredOp):\n",
        "  cmp=0\n",
        "  for i in range(len(DesiredOp)):\n",
        "    if(DesiredOp[i]!=PredOp[i]):\n",
        "      cmp+=1\n",
        "  return cmp\n",
        "  \n",
        "def Test(Inputs,InitialWts):\n",
        "  PredOp=[0,0,0,0]\n",
        "  for j in range(len(Inputs)):\n",
        "    temp=Inputs[j][0]*InitialWts[0]+Inputs[j][1]*InitialWts[1]\n",
        "    PredOp[j]=Activation(temp,Threshold)\n",
        "  return PredOp\n",
        "\n",
        "PredOp=[0,0,0,0]\n",
        "Patience=0\n",
        "PrevTotalErr=-1\n",
        "for i in range(epochs):\n",
        "  print(\"epoch: \",i+1)\n",
        "\n",
        "  TotalError=0\n",
        "  for j in range(len(Inputs)):\n",
        "    temp=Inputs[j][0]*InitialWts[0]+Inputs[j][1]*InitialWts[1]\n",
        "    PredOp[j]=Activation(temp,Threshold)\n",
        "    Error=Loss(DesiredOp[j],PredOp[j])\n",
        "    InitialWts[0]=round(InitialWts[0]+learningRate*(Error)*Inputs[j][0],1)\n",
        "    InitialWts[1]=round(InitialWts[1]+learningRate*(Error)*Inputs[j][1],1)\n",
        "    print(InitialWts)\n",
        "  PredOp=Test(Inputs,InitialWts)\n",
        "  TotalError = Accuracy(DesiredOp,PredOp)\n",
        "  if(PrevTotalErr==TotalError):\n",
        "    Patience+=1\n",
        "  if(Patience>=5):\n",
        "    break\n",
        "  PrevTotalErr=TotalError\n"
      ],
      "execution_count": 9,
      "outputs": [
        {
          "output_type": "stream",
          "text": [
            "epoch:  1\n",
            "[0.3, -0.1]\n",
            "[0.3, 0.0]\n",
            "[0.3, 0.0]\n",
            "[0.2, -0.1]\n",
            "epoch:  2\n",
            "[0.2, -0.1]\n",
            "[0.2, 0.0]\n",
            "[0.2, 0.0]\n",
            "[0.1, -0.1]\n",
            "epoch:  3\n",
            "[0.1, -0.1]\n",
            "[0.1, 0.0]\n",
            "[0.2, 0.0]\n",
            "[0.1, -0.1]\n",
            "epoch:  4\n",
            "[0.1, -0.1]\n",
            "[0.1, 0.0]\n",
            "[0.2, 0.0]\n",
            "[0.1, -0.1]\n",
            "epoch:  5\n",
            "[0.1, -0.1]\n",
            "[0.1, 0.0]\n",
            "[0.2, 0.0]\n",
            "[0.1, -0.1]\n",
            "epoch:  6\n",
            "[0.1, -0.1]\n",
            "[0.1, 0.0]\n",
            "[0.2, 0.0]\n",
            "[0.1, -0.1]\n",
            "epoch:  7\n",
            "[0.1, -0.1]\n",
            "[0.1, 0.0]\n",
            "[0.2, 0.0]\n",
            "[0.1, -0.1]\n"
          ],
          "name": "stdout"
        }
      ]
    },
    {
      "cell_type": "markdown",
      "metadata": {
        "id": "TQu_fIKp80jF",
        "colab_type": "text"
      },
      "source": [
        "In above result we can observe that for XOR gate we didnt get a result which has 100% accuracy, but after running for 7 epochs(starting from 1) we hit with 5 consecutive same accuracies, so the code is stopped considering early stopping and the final weights after each epoch are printed above."
      ]
    },
    {
      "cell_type": "markdown",
      "metadata": {
        "id": "mfUZapvQ9Z86",
        "colab_type": "text"
      },
      "source": [
        "Below is the testing code which tests the accuracy of final weights output of above code(which is done for XOR)."
      ]
    },
    {
      "cell_type": "code",
      "metadata": {
        "id": "_dFZ9NlalbXY",
        "colab_type": "code",
        "colab": {
          "base_uri": "https://localhost:8080/",
          "height": 53
        },
        "outputId": "6fb40c1e-c25d-474b-e136-a0c357ebbc58"
      },
      "source": [
        "def Test(Inputs,InitialWts,DesiredOp):\n",
        "  PredOp=[0,0,0,0]\n",
        "  cmp=0\n",
        "  for j in range(len(Inputs)):\n",
        "    temp=Inputs[j][0]*InitialWts[0]+Inputs[j][1]*InitialWts[1]\n",
        "    PredOp[j]=Activation(temp,Threshold)\n",
        "  print(\"Predicted Output for given weights: \",PredOp)\n",
        "  for j in range(len(Inputs)):\n",
        "    if(PredOp[j]!=DesiredOp[j]):\n",
        "      cmp+=1\n",
        "  print(\"Accuracy is \",(cmp/len(DesiredOp))*100,\"%\")\n",
        "Test([[0,0],[0,1],[1,0],[1,1]],[0.1, -0.1],[0,1,1,0])"
      ],
      "execution_count": 12,
      "outputs": [
        {
          "output_type": "stream",
          "text": [
            "Predicted Output for given weights:  [0, 0, 0, 0]\n",
            "Accuracy is  50.0 %\n"
          ],
          "name": "stdout"
        }
      ]
    },
    {
      "cell_type": "code",
      "metadata": {
        "id": "O4llL3RK-Qen",
        "colab_type": "code",
        "colab": {}
      },
      "source": [
        ""
      ],
      "execution_count": 0,
      "outputs": []
    }
  ]
}